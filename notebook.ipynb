{
 "cells": [
  {
   "cell_type": "markdown",
   "metadata": {},
   "source": [
    "![titlte](files/untitled.png)\n",
    "<center><font color=#555555><font size=6> Ingeniería Financiera </font> <br> <br>\n",
    "\n",
    "<center><font color=#555555><font size=5> Microestructura y Sistemas de Traiding </font> <br> <br> <br>\n",
    "    \n",
    "<center><font color=#555555><font size=5> If709172 Isamar García Gómez </font> <br> <br>\n",
    "    \n",
    "<center> <font color=#555555><font size=4> Septiembre 2020 </a> | <font color#555555> <font size = 4>\n",
    "    Repositorio: <a href= 'https://github.com/isamargarcia/myst_if709172_lab1' >Link</a></font>   "
   ]
  },
  {
   "cell_type": "markdown",
   "metadata": {},
   "source": [
    "<font color= #555555> <font size = 5 > ABSTRACT</font>"
   ]
  },
  {
   "cell_type": "markdown",
   "metadata": {
    "pycharm": {
     "name": "#%%\n"
    }
   },
   "source": [
    "<font color= #6B6B6B> <font size = 2>Este documento fue elaborado por Isamar García Gómez, como un trabajo parcial para la materia de Microestructura y Sistemas de Trading, la cual es parte del curriculum de la licenciatura en Ingeniería Financiera, ofertada por la universidad ITESO. En el presente trabajo se plantea la respuesta a la siguiente pregunta: \n",
    "  **¿Qué estrategia de inversión propondrías si tu trabajo fuera administrar 1 Millón de pesos?**\n",
    "\n",
    "Para responder a esta pregunta tuvimos las siguientes consideraciones:\n",
    "\n",
    "Tienes 1 Millón de pesos, tienes dos opciones para invertirlos. Por un lado, puedes hacer una Inversión Pasiva del capital, comprando el 100% del capital de títulos de un ETF que replica al mercado de renta variable mexicano S&P/BMV IPC que es el NAFTRAC. Pero por otro lado, puedes hacer una Inversión Activa del capital, al crear un portafolio que tenga los mismos activos que el ETF y haciendo el rebalanceo por medio de un algoritmo en específico.</font>\n"
   ]
  },
  {
   "cell_type": "markdown",
   "metadata": {
    "pycharm": {
     "name": "#%% md\n"
    }
   },
   "source": [
    "<font color= #6B6B6B> <font size = 5>  Librerías y Dependencias </font>\n"
   ]
  },
  {
   "cell_type": "markdown",
   "metadata": {},
   "source": [
    "import time as time\n",
    "\n",
    "import numpy as np\n",
    "\n",
    "import pandas as pd\n",
    "\n",
    "from os import listdir, path\n",
    "\n",
    "from os.path import isfile, join\n",
    "\n",
    "import functions as fn\n",
    "\n",
    "import data as dt"
   ]
  },
  {
   "cell_type": "markdown",
   "metadata": {},
   "source": [
    "Todas estas librerias son de gran ayuda para el funcionamiento de un còdigo, cada una tiene sus diferentes funcionalidades como capacidades de números aleatorios, estructuras de datos de alto rendimiento, herramientas de analisis de datos, etc. Para más información consutltar el siguiente <a href= 'https://relopezbriega.github.io/blog/2014/05/28/python-librerias-esenciales-para-el-analisis-de-datos/' >Link</a></font> "
   ]
  },
  {
   "cell_type": "markdown",
   "metadata": {},
   "source": [
    "\n",
    "<font color= #6B6B6B> <font size = 5> Librerías </font> <font color= #555555>\n"
   ]
  },
  {
   "cell_type": "markdown",
   "metadata": {},
   "source": [
    "**Para correr este notebook es necesario tener instaladas y/o en el archivo requirements.txt las siguientes librerías :**\n",
    "\n",
    "pandas>=1.1.1 \n",
    "\n",
    "numpy>=1.19.1\n",
    "\n",
    "jupyter>=1.0.0\n",
    "\n",
    "yfinance>=0.1.54"
   ]
  },
  {
   "cell_type": "markdown",
   "metadata": {},
   "source": [
    "<font color= #6B6B6B> <font size = 5>  Dependencias </font> <font color= #555555>"
   ]
  },
  {
   "cell_type": "markdown",
   "metadata": {},
   "source": [
    "**Para correr este notebook es necesario contar con los siguientes archivos y dependencias externas:**\n"
   ]
  },
  {
   "cell_type": "markdown",
   "metadata": {},
   "source": [
    "files/Naftrac_holdings: Carpeta donde se encuentran los archivos utilizados.\n",
    "\n",
    "Con esta parte del código se obtuvieron los precios desde yahoo finance:\n",
    "\n",
    "data = yf.download(global_tickers, start=\"2017-08-21\", end=\"2020-08-21\", action=False,\n",
    "                   group_by=\"close\", interval='1d', auto_adjust=False, prepost=False, thredas=True)\n"
   ]
  },
  {
   "cell_type": "markdown",
   "metadata": {},
   "source": [
    "<font color= #6B6B6B> <font size = 6> 1. Introducción </font>"
   ]
  },
  {
   "cell_type": "markdown",
   "metadata": {},
   "source": [
    "Cuando se trata de invertir es comun encontrarse con varias opciones o formas para invertir en el mercado de valores, en este laboratorio se analizara que inversión es mas conveniente si la activa o la pasiva para invertir en el mercado de renta variable mexicano S&P/BMV IPC que es el NAFTRAC.\n",
    "\n",
    "La inversión pasiva es conocida tambien como indizados esto debido a que está ligada a un índice o acciones que representan un mercado en particular, si uno decidiera invertir en un índice, la forma de hacerlo es a través de un fondo indizado (o con un ETF), que contenga todas las emisoras o una parte representativa del índice para que se mantenga en línea con el comportamiento del mismo, este estilo de inversión no requiere de una gran cantidad de operaciones y el rendimiento será similar al rendimiento del mercado.\n",
    "\n",
    "Por otro lado,la inversión activa es aquella que busca constantemente oportunidades en el mercado, con el fin de superar un benchmark establecido, los rendimientos de éstos dependen de la estrategia implementada y de las oportunidades que los gestores encuentren en el mercado así como de las habilidades de cada uno de ellos. La inversión activa tiene como principal ventaja en que el inversor puede aprovechar los movimientos del mercado en el corto plazo, esto se puede transformar en ganancias muy elevadas en poco tiempo.\n",
    "\n",
    "Tambien en este laboratorio veremos la métricas de atribucion al desempeño como lo es el sharpe ratio el cual calucula el retorno ajustado al riesgo, y ademas afirma que al agregar activos a una cartera diversificada con correlaciones bajas puede disminuir el riesgo sin afectar los rendimeintos, esta metrica puede ayudar a tomar la desicion de cual estrategia elegir."
   ]
  },
  {
   "cell_type": "markdown",
   "metadata": {},
   "source": [
    "\n",
    "<font color= #6B6B6B> <font size = 6> 2. Objetivos </font>\n"
   ]
  },
  {
   "cell_type": "markdown",
   "metadata": {},
   "source": [
    " El objetivo de este laboratorio es responder la siguiente pregunta ¿Qué estrategia de inversión propondrías si tu trabajo fuera administrar 1 Millón de pesos? para responder a esta pregunte se deben de obtener 2 series de tiempo. La primera es la evolución del capital de la estrategia de Inversión Pasiva, y la segunda es la evolución del capital de tu estrategia de Inversión Activa. También, una tabla con el histórico de todas las operaciones que se realizan en tu estrategia de Inversión Activa, y una tabla comparativa con Métricas de Atribución al Desempeño,  para tener una comparación financiera entre ambas opciones de estrategias de inversión y asi poder decidir con cual estrategia vamos a invertir el millon de pesos."
   ]
  },
  {
   "cell_type": "markdown",
   "metadata": {},
   "source": [
    "<font color= #6B6B6B> <font size = 6> 3. Datos </font>\n"
   ]
  },
  {
   "cell_type": "markdown",
   "metadata": {},
   "source": [
    "Los datos que se estuvieron trabajando a lo largo de este laboratorio se obtuvieron de la pagina oficial de blackrock y se tomaron los archivos del NAFTRAC en el cual existen acciones mexicanas de alta capitalización, facilida de operación y alta liquidez.  <a href= 'https://www.blackrock.com/mx/intermediarios/productos/251895/ishares-naftrac-fund' >Link</a></font> \n",
    "\n",
    "\n",
    "\n",
    "En la siguiente imagen podemos observar algunos de los activos con los que se estuvieron trabajando en la cual muestra su precio, número de acciones etc. Para obtener esta imagen se descargaron los datos y se hizo una limpieza y acomodo de los mismos.\n",
    "<img src=\"files/datos.png\" width=\"900\">\n"
   ]
  },
  {
   "cell_type": "markdown",
   "metadata": {},
   "source": [
    "Obtener la ruta absoluta de la carpeta donde se encuentran los archivos\n",
    "\n",
    "abspath = path.abspath('files/NAFTRAC_holdings')\n",
    "data_archivos = {}\n",
    "\n",
    "Obtener una lista de todos los archivos en la carpeta (quitandole la extension de archivos)\n",
    "\n",
    "archivos = [f[8:-4] for f in listdir(abspath) if isfile(join(abspath, f))]\n",
    "\n",
    "archivos = ['NAFTRAC_' + i.strftime('%d%m%y') for i in sorted(pd.to_datetime(archivos))]"
   ]
  },
  {
   "cell_type": "markdown",
   "metadata": {},
   "source": [
    "<font color= #6B6B6B> <font size = 6> 4. Procesos </font>"
   ]
  },
  {
   "cell_type": "markdown",
   "metadata": {},
   "source": [
    "En la siguiente imagen se muestra la posicion inical de alunos activos para inversión pasiva en la cual tomamos como datos:\n",
    "\n",
    "Capital= 1,000,000 de pesos\n",
    "\n",
    "Comisión= .00125\n",
    "\n",
    "Para llegar a estos resultados se tuvieron que hacer algunas modificaciones en los archivos asi como el acomodo da fechas, se eliminaron activos y se corregieron algunos tickers, para mas información y claridad consultar main.py\n",
    "\n",
    "<img src=\"files/posicion_inicial.png\" width=\"900\">\n",
    "\n",
    "\n",
    "En la siguiente imagen se muestra la evolución de inversión pasiva y sus resultados finales, tomando en cuenta el capital, precio, peso de cada activo y comsiones para obetener los rendimeintos para ello se realizaron diferentes calculos:\n",
    "\n",
    "**Capital destinado por acción**\n",
    "\n",
    "pos_datos['Capital'] = pos_datos['Peso (%)'] * k - pos_datos['Peso (%)']*k*c\n",
    "\n",
    "**Cantidad de titulos por accion**\n",
    "\n",
    "pos_datos['Titulos'] = pos_datos['Capital']//pos_datos['Precio']\n",
    "\n",
    "pos_datos['Postura'] = pos_datos['Titulos'] * pos_datos['Precio']\n",
    "\n",
    "<img src=\"files/dt_frame.png\" width=\"600\">"
   ]
  },
  {
   "cell_type": "markdown",
   "metadata": {},
   "source": [
    "<font color= #6B6B6B> <font size = 6> 5. Conclusiones </font>"
   ]
  },
  {
   "cell_type": "markdown",
   "metadata": {},
   "source": [
    "Entonces, ¿cuál es la mejor opción a elegir entre estas dos formas de inversión? Si el inversionista está dispuesto a aceptar un mayor nivel de riesgo por un posible mayor rendimiento, un fondo activo puede ser una muy buena opción pero si el inversionista se siente más cómodo con el rendimiento del mercado y la sola idea de aumentar el riesgo lo pone nervioso, es preferible mantener una inversión pasiva."
   ]
  }
 ],
 "metadata": {
  "kernelspec": {
   "display_name": "Python 3",
   "language": "python",
   "name": "python3"
  },
  "language_info": {
   "codemirror_mode": {
    "name": "ipython",
    "version": 3
   },
   "file_extension": ".py",
   "mimetype": "text/x-python",
   "name": "python",
   "nbconvert_exporter": "python",
   "pygments_lexer": "ipython3",
   "version": "3.8.3"
  }
 },
 "nbformat": 4,
 "nbformat_minor": 1
}
